{
 "cells": [
  {
   "cell_type": "code",
   "execution_count": null,
   "metadata": {},
   "outputs": [],
   "source": [
    "# クイックソートのプログラム\n",
    "def quickSort(list):\n",
    "    quickSortHelper(list, 0, len(list) - 1)\n",
    "\n",
    "def quickSortHelper(list, first, last):\n",
    "    if last > first:\n",
    "        pivotIndex = partition(list, first, last)\n",
    "        quickSortHelper(list, first, pivotIndex - 1)\n",
    "        quickSortHelper(list, pivotIndex + 1, last)\n",
    "\n",
    "# リストを分割する list[first..last]\n",
    "def partition(list, first, last):\n",
    "    pivot = list[first]  # 最初の要素をPivotとして選択する\n",
    "    low = first + 1  # 順番の探索のためのインデックス\n",
    "    high = last  # 逆順の探索のためのインデックス\n",
    "\n",
    "    while high > low:\n",
    "        # 左側から順番に探していく\n",
    "        while low <= high and list[low] <= pivot:\n",
    "            low += 1\n",
    "\n",
    "        # 右側から逆順に探していく\n",
    "        while low <= high and list[high] > pivot:\n",
    "            high -= 1\n",
    "\n",
    "        # listの2つの要素を交換する\n",
    "        if high > low:\n",
    "            list[high], list[low] = list[low], list[high]\n",
    "\n",
    "    while high > first and list[high] >= pivot:\n",
    "        high -= 1\n",
    "\n",
    "    # pivot を list[high] と交換する\n",
    "    if pivot > list[high]:\n",
    "        list[first] = list[high]\n",
    "        list[high] = pivot\n",
    "        return high\n",
    "    else:\n",
    "        return first\n",
    "\n",
    "# テストデータ\n",
    "def main():\n",
    "    list = [2, 3, 2, 5, 6, 1, -2, 3, 14, 12]\n",
    "    quickSort(list)\n",
    "    for v in list:\n",
    "        print(str(v) + \" \", end = \"\")\n",
    "\n",
    "main()\n"
   ]
  }
 ],
 "metadata": {
  "kernelspec": {
   "display_name": "Python 3",
   "language": "python",
   "name": "python3"
  },
  "language_info": {
   "codemirror_mode": {
    "name": "ipython",
    "version": 3
   },
   "file_extension": ".py",
   "mimetype": "text/x-python",
   "name": "python",
   "nbconvert_exporter": "python",
   "pygments_lexer": "ipython3",
   "version": "3.7.4"
  }
 },
 "nbformat": 4,
 "nbformat_minor": 2
}

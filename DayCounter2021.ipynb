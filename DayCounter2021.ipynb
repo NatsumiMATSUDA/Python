{
 "cells": [
  {
   "cell_type": "code",
   "execution_count": 8,
   "metadata": {},
   "outputs": [
    {
     "name": "stdout",
     "output_type": "stream",
     "text": [
      "今日は 2021-05-19\n",
      "2020年東京オリンピックまであと -300 日！！\n"
     ]
    }
   ],
   "source": [
    "#東京オリンピックまでの日数を求めるプログラム\n",
    "\n",
    "#datetimeモジュールのインポート\n",
    "import datetime\n",
    "\n",
    "#関数　days_left\n",
    "def days_left(NowTime):\n",
    "    #オリンピック当日のタイムスタンプ\n",
    "    TokyoOlyTime = datetime.datetime(2021, 7, 23). timestamp()\n",
    "    #残されている秒数を計算\n",
    "    second_left = TokyoOlyTime - NowTime\n",
    "    #1日が24*60*60[秒]なので、これで割って日数を求める\n",
    "    days = int(second_left //(24*60*60))\n",
    "    return days\n",
    "\n",
    "def main():\n",
    "    #まず今日が何日か確認する\n",
    "    d_today = datetime.date.today()\n",
    "    print(\"今日は\", d_today)\n",
    "    #今の時刻を取得し、タイムスタンプとして関数days_leftに渡す\n",
    "    now = datetime.datetime.now()\n",
    "    d = days_left(now.timestamp())\n",
    "    print(\"2020年東京オリンピックまであと\", d, \"日！！\")\n",
    "\n",
    "    \n",
    "main()"
   ]
  },
  {
   "cell_type": "code",
   "execution_count": null,
   "metadata": {},
   "outputs": [],
   "source": []
  }
 ],
 "metadata": {
  "kernelspec": {
   "display_name": "Python 3",
   "language": "python",
   "name": "python3"
  },
  "language_info": {
   "codemirror_mode": {
    "name": "ipython",
    "version": 3
   },
   "file_extension": ".py",
   "mimetype": "text/x-python",
   "name": "python",
   "nbconvert_exporter": "python",
   "pygments_lexer": "ipython3",
   "version": "3.7.4"
  }
 },
 "nbformat": 4,
 "nbformat_minor": 2
}
